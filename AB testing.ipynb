{
 "cells": [
  {
   "cell_type": "markdown",
   "id": "6dcf4988",
   "metadata": {},
   "source": [
    "#### Use case here is : We want to sell more of mobile screen gaurds. \n",
    "We have 2 options to recommend this product, with\n",
    "\n",
    "1.Cell phone\n",
    "OR\n",
    "2.Phone case"
   ]
  },
  {
   "cell_type": "code",
   "execution_count": 30,
   "id": "d5f5ebf3",
   "metadata": {},
   "outputs": [],
   "source": [
    "import pandas as pd\n",
    "import numpy as np\n",
    "import matplotlib.pyplot as plt\n",
    "%matplotlib inline\n"
   ]
  },
  {
   "cell_type": "code",
   "execution_count": 31,
   "id": "2a3ee2be",
   "metadata": {},
   "outputs": [
    {
     "data": {
      "text/html": [
       "<div>\n",
       "<style scoped>\n",
       "    .dataframe tbody tr th:only-of-type {\n",
       "        vertical-align: middle;\n",
       "    }\n",
       "\n",
       "    .dataframe tbody tr th {\n",
       "        vertical-align: top;\n",
       "    }\n",
       "\n",
       "    .dataframe thead th {\n",
       "        text-align: right;\n",
       "    }\n",
       "</style>\n",
       "<table border=\"1\" class=\"dataframe\">\n",
       "  <thead>\n",
       "    <tr style=\"text-align: right;\">\n",
       "      <th></th>\n",
       "      <th>customer_id</th>\n",
       "      <th>Recommendation_name</th>\n",
       "      <th>Recommendation_date</th>\n",
       "      <th>suggestion_type</th>\n",
       "      <th>purchase_flag</th>\n",
       "    </tr>\n",
       "  </thead>\n",
       "  <tbody>\n",
       "    <tr>\n",
       "      <th>0</th>\n",
       "      <td>1.0</td>\n",
       "      <td>Recommend_screenguard</td>\n",
       "      <td>2021-07-02</td>\n",
       "      <td>With phone</td>\n",
       "      <td>0.0</td>\n",
       "    </tr>\n",
       "    <tr>\n",
       "      <th>1</th>\n",
       "      <td>2.0</td>\n",
       "      <td>Recommend_screenguard</td>\n",
       "      <td>2021-07-03</td>\n",
       "      <td>With phone</td>\n",
       "      <td>0.0</td>\n",
       "    </tr>\n",
       "    <tr>\n",
       "      <th>2</th>\n",
       "      <td>3.0</td>\n",
       "      <td>Recommend_screenguard</td>\n",
       "      <td>2021-07-04</td>\n",
       "      <td>With cover</td>\n",
       "      <td>1.0</td>\n",
       "    </tr>\n",
       "    <tr>\n",
       "      <th>3</th>\n",
       "      <td>4.0</td>\n",
       "      <td>Recommend_screenguard</td>\n",
       "      <td>2021-07-05</td>\n",
       "      <td>With phone</td>\n",
       "      <td>0.0</td>\n",
       "    </tr>\n",
       "    <tr>\n",
       "      <th>4</th>\n",
       "      <td>5.0</td>\n",
       "      <td>Recommend_screenguard</td>\n",
       "      <td>2021-07-06</td>\n",
       "      <td>With cover</td>\n",
       "      <td>1.0</td>\n",
       "    </tr>\n",
       "  </tbody>\n",
       "</table>\n",
       "</div>"
      ],
      "text/plain": [
       "   customer_id    Recommendation_name Recommendation_date suggestion_type  \\\n",
       "0          1.0  Recommend_screenguard          2021-07-02      With phone   \n",
       "1          2.0  Recommend_screenguard          2021-07-03      With phone   \n",
       "2          3.0  Recommend_screenguard          2021-07-04      With cover   \n",
       "3          4.0  Recommend_screenguard          2021-07-05      With phone   \n",
       "4          5.0  Recommend_screenguard          2021-07-06      With cover   \n",
       "\n",
       "   purchase_flag  \n",
       "0            0.0  \n",
       "1            0.0  \n",
       "2            1.0  \n",
       "3            0.0  \n",
       "4            1.0  "
      ]
     },
     "execution_count": 31,
     "metadata": {},
     "output_type": "execute_result"
    }
   ],
   "source": [
    "data = pd.read_excel(\"Recommendation_data.xlsx\")\n",
    "data.head()\n",
    "#purchase flag = 0 , not bought the screne gaurd\n",
    "#purchase flag = 1 , bought the screen gaurd"
   ]
  },
  {
   "cell_type": "code",
   "execution_count": 32,
   "id": "e178c714",
   "metadata": {},
   "outputs": [
    {
     "data": {
      "text/plain": [
       "(711, 5)"
      ]
     },
     "execution_count": 32,
     "metadata": {},
     "output_type": "execute_result"
    }
   ],
   "source": [
    "#remove the rows that contains NULL values\n",
    "data.dropna(inplace = True)\n",
    "data.shape"
   ]
  },
  {
   "cell_type": "code",
   "execution_count": 33,
   "id": "fdcefd19",
   "metadata": {},
   "outputs": [
    {
     "data": {
      "text/plain": [
       "suggestion_type  purchase_flag\n",
       "With cover       0.0              206\n",
       "                 1.0              130\n",
       "With phone       0.0              258\n",
       "                 1.0              117\n",
       "Name: purchase_flag, dtype: int64"
      ]
     },
     "execution_count": 33,
     "metadata": {},
     "output_type": "execute_result"
    }
   ],
   "source": [
    "data.groupby(\"suggestion_type\")[\"purchase_flag\"].value_counts()"
   ]
  },
  {
   "cell_type": "code",
   "execution_count": 34,
   "id": "a8dd6617",
   "metadata": {},
   "outputs": [
    {
     "data": {
      "text/plain": [
       "array([[206, 130],\n",
       "       [258, 117]])"
      ]
     },
     "execution_count": 34,
     "metadata": {},
     "output_type": "execute_result"
    }
   ],
   "source": [
    "#contengency table\n",
    "CT = pd.crosstab(data[\"suggestion_type\"], data[\"purchase_flag\"]).values\n",
    "CT"
   ]
  },
  {
   "cell_type": "code",
   "execution_count": 35,
   "id": "26d52739",
   "metadata": {},
   "outputs": [
    {
     "name": "stdout",
     "output_type": "stream",
     "text": [
      "0.3869047619047619 0.312\n"
     ]
    }
   ],
   "source": [
    "#Purchase rate\n",
    "with_cover = 130 / (130+206) #38%\n",
    "with_phone = 117 / (117+258) #31%\n",
    "print(with_cover, with_phone)"
   ]
  },
  {
   "cell_type": "code",
   "execution_count": 36,
   "id": "4ad5101e",
   "metadata": {},
   "outputs": [],
   "source": [
    "null_hypo = \"No relationship between purchase rate and recommendation type\"\n",
    "alt_hypo = \"There is a relationship between putchase rate and recommendation type\""
   ]
  },
  {
   "cell_type": "markdown",
   "id": "fe2334b1",
   "metadata": {},
   "source": [
    "\n",
    "### Why chi-square test ?\n",
    "You can use a chi-square test of independence when you have two categorical variables. It allows you to test whether the two variables are related to each other. If two variables are independent (unrelated), the probability of belonging to a certain group of one variable isn't affected by the other variable."
   ]
  },
  {
   "cell_type": "code",
   "execution_count": 39,
   "id": "3ec9128e",
   "metadata": {},
   "outputs": [
    {
     "name": "stdout",
     "output_type": "stream",
     "text": [
      "4.385751976925068 0.03624050241176425\n"
     ]
    }
   ],
   "source": [
    "from scipy.stats import chi2_contingency\n",
    "\n",
    "chi2_statistic, p_value, dof, expected_values = chi2_contingency (CT, correction = False)\n",
    "print (chi2_statistic, p_value)\n",
    "#p_vlauve <0.05 we can reject null hypo"
   ]
  },
  {
   "cell_type": "code",
   "execution_count": 40,
   "id": "db96d017",
   "metadata": {},
   "outputs": [
    {
     "name": "stdout",
     "output_type": "stream",
     "text": [
      "significance=0.050, p=0.036\n",
      "Dependent, we can reject HO safely\n"
     ]
    }
   ],
   "source": [
    "#95% CI\n",
    "prob = 0.95\n",
    "alpha = 1.0 - prob\n",
    "print('significance=%.3f, p=%.3f' % (alpha, p_value))\n",
    "if p_value <= alpha:\n",
    "    print ('Dependent, we can reject HO safely') \n",
    "else:\n",
    "    print ('Independent, no suffiecinet evidence to reject HO')\n"
   ]
  },
  {
   "cell_type": "code",
   "execution_count": null,
   "id": "ada1e377",
   "metadata": {},
   "outputs": [],
   "source": [
    "#"
   ]
  },
  {
   "cell_type": "code",
   "execution_count": null,
   "id": "177a16c7",
   "metadata": {},
   "outputs": [],
   "source": []
  },
  {
   "cell_type": "code",
   "execution_count": null,
   "id": "5313daa1",
   "metadata": {},
   "outputs": [],
   "source": []
  }
 ],
 "metadata": {
  "kernelspec": {
   "display_name": "Python 3",
   "language": "python",
   "name": "python3"
  },
  "language_info": {
   "codemirror_mode": {
    "name": "ipython",
    "version": 3
   },
   "file_extension": ".py",
   "mimetype": "text/x-python",
   "name": "python",
   "nbconvert_exporter": "python",
   "pygments_lexer": "ipython3",
   "version": "3.8.8"
  }
 },
 "nbformat": 4,
 "nbformat_minor": 5
}
